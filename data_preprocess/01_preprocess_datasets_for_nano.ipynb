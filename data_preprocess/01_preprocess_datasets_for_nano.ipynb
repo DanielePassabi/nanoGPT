{
 "cells": [
  {
   "attachments": {},
   "cell_type": "markdown",
   "metadata": {},
   "source": [
    "## **NanoGPT**\n",
    "\n",
    "Preprocessiamo i dati bilanciati di PagoPa per poterli utilizzare con NanoGPT. "
   ]
  },
  {
   "attachments": {},
   "cell_type": "markdown",
   "metadata": {},
   "source": [
    "### **Libraries**"
   ]
  },
  {
   "cell_type": "code",
   "execution_count": null,
   "metadata": {},
   "outputs": [],
   "source": [
    "import pandas as pd\n",
    "\n",
    "print(\"Libraries Imported\")"
   ]
  },
  {
   "attachments": {},
   "cell_type": "markdown",
   "metadata": {},
   "source": [
    "### **Import Dataset**"
   ]
  },
  {
   "cell_type": "code",
   "execution_count": null,
   "metadata": {},
   "outputs": [],
   "source": [
    "# import data\n",
    "balanced_df = pd.read_csv('data/df_clean_2020-12-15_2022-01-21_v5.4_starter_balanced_150obs.csv')\n",
    "\n",
    "# keep only meaningful columns\n",
    "cols_to_keep = ['question', 'answer']\n",
    "balanced_df = balanced_df[cols_to_keep]\n",
    "\n",
    "# show res\n",
    "balanced_df"
   ]
  },
  {
   "attachments": {},
   "cell_type": "markdown",
   "metadata": {},
   "source": [
    "Save results in a txt file."
   ]
  },
  {
   "cell_type": "code",
   "execution_count": null,
   "metadata": {},
   "outputs": [],
   "source": [
    "with open('data/input_balanced_150obs.txt', 'w') as f:\n",
    "    for _, row in balanced_df.iterrows():\n",
    "        f.write(f\"Domanda:\\n{row['question']}\\n\")\n",
    "        f.write(f\"Risposta:\\n{row['answer']}\\n\\n\")"
   ]
  }
 ],
 "metadata": {
  "kernelspec": {
   "display_name": "NANO_PY9",
   "language": "python",
   "name": "python3"
  },
  "language_info": {
   "codemirror_mode": {
    "name": "ipython",
    "version": 3
   },
   "file_extension": ".py",
   "mimetype": "text/x-python",
   "name": "python",
   "nbconvert_exporter": "python",
   "pygments_lexer": "ipython3",
   "version": "3.9.16"
  },
  "orig_nbformat": 4
 },
 "nbformat": 4,
 "nbformat_minor": 2
}
